{
 "cells": [
  {
   "cell_type": "markdown",
   "metadata": {},
   "source": [
    "# Libraries"
   ]
  },
  {
   "cell_type": "code",
   "execution_count": 362,
   "metadata": {},
   "outputs": [],
   "source": [
    "import pandas as pd\n",
    "from pandas_profiling import ProfileReport\n",
    "import numpy as np\n",
    "import seaborn as sns\n",
    "import matplotlib.pyplot as plt\n",
    "from sklearn.model_selection import train_test_split\n",
    "from sklearn.preprocessing import OrdinalEncoder, LabelEncoder, StandardScaler, OneHotEncoder\n",
    "from sklearn.ensemble import RandomForestClassifier, GradientBoostingClassifier, AdaBoostClassifier, \\\n",
    "                            IsolationForest, StackingClassifier\n",
    "from sklearn.experimental import enable_iterative_imputer\n",
    "from sklearn.impute import KNNImputer, SimpleImputer, IterativeImputer\n",
    "from sklearn.metrics import confusion_matrix, plot_roc_curve, accuracy_score\n",
    "from sklearn.tree import DecisionTreeClassifier\n",
    "\n",
    "from sklearn.svm import SVC\n",
    "from sklearn.linear_model import LogisticRegression\n",
    "\n",
    "import xgboost as xgb\n",
    "import lightgbm as lgb"
   ]
  },
  {
   "cell_type": "markdown",
   "metadata": {},
   "source": [
    "# Setup"
   ]
  },
  {
   "cell_type": "code",
   "execution_count": 284,
   "metadata": {},
   "outputs": [],
   "source": [
    "pd.set_option('display.max_rows', 50)"
   ]
  },
  {
   "cell_type": "markdown",
   "metadata": {},
   "source": [
    "# Load data"
   ]
  },
  {
   "cell_type": "code",
   "execution_count": 367,
   "metadata": {
    "scrolled": true
   },
   "outputs": [
    {
     "name": "stdout",
     "output_type": "stream",
     "text": [
      "(100000, 11)\n"
     ]
    }
   ],
   "source": [
    "data = pd.read_csv('./data/train.csv')\n",
    "test_data = pd.read_csv('./data/test.csv')\n",
    "\n",
    "\n",
    "data.drop(['Ticket'], axis=1, inplace=True)\n",
    "# data = data.dropna(thresh=9).reset_index()\n",
    "\n",
    "print(data.shape)"
   ]
  },
  {
   "cell_type": "code",
   "execution_count": 368,
   "metadata": {},
   "outputs": [
    {
     "data": {
      "text/plain": [
       "<AxesSubplot:xlabel='Age', ylabel='Count'>"
      ]
     },
     "execution_count": 368,
     "metadata": {},
     "output_type": "execute_result"
    },
    {
     "data": {
      "image/png": "[encoded data removed]",
      "text/plain": [
       "<Figure size 720x504 with 1 Axes>"
      ]
     },
     "metadata": {
      "needs_background": "light"
     },
     "output_type": "display_data"
    }
   ],
   "source": [
    "plt.figure(figsize=(10, 7))\n",
    "sns.histplot(data['Age'], bins=100)"
   ]
  },
  {
   "cell_type": "code",
   "execution_count": 326,
   "metadata": {},
   "outputs": [
    {
     "name": "stdout",
     "output_type": "stream",
     "text": [
      "PassengerId        0\n",
      "Survived           0\n",
      "Pclass             0\n",
      "Name               0\n",
      "Sex                0\n",
      "Age             3292\n",
      "SibSp              0\n",
      "Parch              0\n",
      "Fare             134\n",
      "Cabin          67866\n",
      "Embarked         250\n",
      "dtype: int64\n"
     ]
    }
   ],
   "source": [
    "print(data.isnull().sum())"
   ]
  },
  {
   "cell_type": "code",
   "execution_count": 341,
   "metadata": {},
   "outputs": [],
   "source": [
    "# profile = ProfileReport(data, title='Pandas Profiling Report', explorative=True)\n",
    "# profile.to_notebook_iframe()"
   ]
  },
  {
   "cell_type": "markdown",
   "metadata": {},
   "source": [
    "## Description of the attributes\n",
    "\n",
    "* PassengerId - Unique passenger id\n",
    "* Survived - Flag whether passenger survived or not\n",
    "* Pclass - Ticket class\n",
    "* Name - Name of the passenger\n",
    "* Sex - Gender of the passenger\n",
    "* Age - Age of the passenger\n",
    "* SibSp - # of siblings / spouses aboard the Titanic:\n",
    "    * Siblings: brother, sister, stepbrother, stepsister\n",
    "    * Spouse: husband, wife (mistresses and fiancés were ignored)\n",
    "* Parch - # of parents / children aboard the Titanic:\n",
    "    * Parent: mother, father\n",
    "    * Child: daughter, son, stepdaughter, stepson\n",
    "* Ticket - Ticket number\n",
    "* Fare - Passenger fare\n",
    "* Cabin - Cabin number\n",
    "* Embarked - Port of embarkation:\n",
    "    * C = Cherbourg\n",
    "    * Q = Queenstown\n",
    "    * S = Southampton"
   ]
  },
  {
   "cell_type": "code",
   "execution_count": 369,
   "metadata": {},
   "outputs": [
    {
     "data": {
      "text/html": [
       "<div>\n",
       "<style scoped>\n",
       "    .dataframe tbody tr th:only-of-type {\n",
       "        vertical-align: middle;\n",
       "    }\n",
       "\n",
       "    .dataframe tbody tr th {\n",
       "        vertical-align: top;\n",
       "    }\n",
       "\n",
       "    .dataframe thead th {\n",
       "        text-align: right;\n",
       "    }\n",
       "</style>\n",
       "<table border=\"1\" class=\"dataframe\">\n",
       "  <thead>\n",
       "    <tr style=\"text-align: right;\">\n",
       "      <th></th>\n",
       "      <th>PassengerId</th>\n",
       "      <th>Survived</th>\n",
       "      <th>Pclass</th>\n",
       "      <th>Name</th>\n",
       "      <th>Sex</th>\n",
       "      <th>Age</th>\n",
       "      <th>SibSp</th>\n",
       "      <th>Parch</th>\n",
       "      <th>Fare</th>\n",
       "      <th>Cabin</th>\n",
       "      <th>Embarked</th>\n",
       "    </tr>\n",
       "  </thead>\n",
       "  <tbody>\n",
       "    <tr>\n",
       "      <th>count</th>\n",
       "      <td>100000.000000</td>\n",
       "      <td>100000.000000</td>\n",
       "      <td>100000.000000</td>\n",
       "      <td>100000</td>\n",
       "      <td>100000</td>\n",
       "      <td>96708.000000</td>\n",
       "      <td>100000.000000</td>\n",
       "      <td>100000.000000</td>\n",
       "      <td>99866.00000</td>\n",
       "      <td>32134</td>\n",
       "      <td>99750</td>\n",
       "    </tr>\n",
       "    <tr>\n",
       "      <th>unique</th>\n",
       "      <td>NaN</td>\n",
       "      <td>NaN</td>\n",
       "      <td>NaN</td>\n",
       "      <td>92144</td>\n",
       "      <td>2</td>\n",
       "      <td>NaN</td>\n",
       "      <td>NaN</td>\n",
       "      <td>NaN</td>\n",
       "      <td>NaN</td>\n",
       "      <td>26992</td>\n",
       "      <td>3</td>\n",
       "    </tr>\n",
       "    <tr>\n",
       "      <th>top</th>\n",
       "      <td>NaN</td>\n",
       "      <td>NaN</td>\n",
       "      <td>NaN</td>\n",
       "      <td>Johnson, John</td>\n",
       "      <td>male</td>\n",
       "      <td>NaN</td>\n",
       "      <td>NaN</td>\n",
       "      <td>NaN</td>\n",
       "      <td>NaN</td>\n",
       "      <td>C19828</td>\n",
       "      <td>S</td>\n",
       "    </tr>\n",
       "    <tr>\n",
       "      <th>freq</th>\n",
       "      <td>NaN</td>\n",
       "      <td>NaN</td>\n",
       "      <td>NaN</td>\n",
       "      <td>31</td>\n",
       "      <td>56114</td>\n",
       "      <td>NaN</td>\n",
       "      <td>NaN</td>\n",
       "      <td>NaN</td>\n",
       "      <td>NaN</td>\n",
       "      <td>6</td>\n",
       "      <td>72139</td>\n",
       "    </tr>\n",
       "    <tr>\n",
       "      <th>mean</th>\n",
       "      <td>49999.500000</td>\n",
       "      <td>0.427740</td>\n",
       "      <td>2.106910</td>\n",
       "      <td>NaN</td>\n",
       "      <td>NaN</td>\n",
       "      <td>38.355472</td>\n",
       "      <td>0.397690</td>\n",
       "      <td>0.454560</td>\n",
       "      <td>43.92933</td>\n",
       "      <td>NaN</td>\n",
       "      <td>NaN</td>\n",
       "    </tr>\n",
       "    <tr>\n",
       "      <th>std</th>\n",
       "      <td>28867.657797</td>\n",
       "      <td>0.494753</td>\n",
       "      <td>0.837727</td>\n",
       "      <td>NaN</td>\n",
       "      <td>NaN</td>\n",
       "      <td>18.313556</td>\n",
       "      <td>0.862566</td>\n",
       "      <td>0.950076</td>\n",
       "      <td>69.58882</td>\n",
       "      <td>NaN</td>\n",
       "      <td>NaN</td>\n",
       "    </tr>\n",
       "    <tr>\n",
       "      <th>min</th>\n",
       "      <td>0.000000</td>\n",
       "      <td>0.000000</td>\n",
       "      <td>1.000000</td>\n",
       "      <td>NaN</td>\n",
       "      <td>NaN</td>\n",
       "      <td>0.080000</td>\n",
       "      <td>0.000000</td>\n",
       "      <td>0.000000</td>\n",
       "      <td>0.68000</td>\n",
       "      <td>NaN</td>\n",
       "      <td>NaN</td>\n",
       "    </tr>\n",
       "    <tr>\n",
       "      <th>25%</th>\n",
       "      <td>24999.750000</td>\n",
       "      <td>0.000000</td>\n",
       "      <td>1.000000</td>\n",
       "      <td>NaN</td>\n",
       "      <td>NaN</td>\n",
       "      <td>25.000000</td>\n",
       "      <td>0.000000</td>\n",
       "      <td>0.000000</td>\n",
       "      <td>10.04000</td>\n",
       "      <td>NaN</td>\n",
       "      <td>NaN</td>\n",
       "    </tr>\n",
       "    <tr>\n",
       "      <th>50%</th>\n",
       "      <td>49999.500000</td>\n",
       "      <td>0.000000</td>\n",
       "      <td>2.000000</td>\n",
       "      <td>NaN</td>\n",
       "      <td>NaN</td>\n",
       "      <td>39.000000</td>\n",
       "      <td>0.000000</td>\n",
       "      <td>0.000000</td>\n",
       "      <td>24.46000</td>\n",
       "      <td>NaN</td>\n",
       "      <td>NaN</td>\n",
       "    </tr>\n",
       "    <tr>\n",
       "      <th>75%</th>\n",
       "      <td>74999.250000</td>\n",
       "      <td>1.000000</td>\n",
       "      <td>3.000000</td>\n",
       "      <td>NaN</td>\n",
       "      <td>NaN</td>\n",
       "      <td>53.000000</td>\n",
       "      <td>1.000000</td>\n",
       "      <td>1.000000</td>\n",
       "      <td>33.50000</td>\n",
       "      <td>NaN</td>\n",
       "      <td>NaN</td>\n",
       "    </tr>\n",
       "    <tr>\n",
       "      <th>max</th>\n",
       "      <td>99999.000000</td>\n",
       "      <td>1.000000</td>\n",
       "      <td>3.000000</td>\n",
       "      <td>NaN</td>\n",
       "      <td>NaN</td>\n",
       "      <td>87.000000</td>\n",
       "      <td>8.000000</td>\n",
       "      <td>9.000000</td>\n",
       "      <td>744.66000</td>\n",
       "      <td>NaN</td>\n",
       "      <td>NaN</td>\n",
       "    </tr>\n",
       "  </tbody>\n",
       "</table>\n",
       "</div>"
      ],
      "text/plain": [
       "          PassengerId       Survived         Pclass           Name     Sex  \\\n",
       "count   100000.000000  100000.000000  100000.000000         100000  100000   \n",
       "unique            NaN            NaN            NaN          92144       2   \n",
       "top               NaN            NaN            NaN  Johnson, John    male   \n",
       "freq              NaN            NaN            NaN             31   56114   \n",
       "mean     49999.500000       0.427740       2.106910            NaN     NaN   \n",
       "std      28867.657797       0.494753       0.837727            NaN     NaN   \n",
       "min          0.000000       0.000000       1.000000            NaN     NaN   \n",
       "25%      24999.750000       0.000000       1.000000            NaN     NaN   \n",
       "50%      49999.500000       0.000000       2.000000            NaN     NaN   \n",
       "75%      74999.250000       1.000000       3.000000            NaN     NaN   \n",
       "max      99999.000000       1.000000       3.000000            NaN     NaN   \n",
       "\n",
       "                 Age          SibSp          Parch         Fare   Cabin  \\\n",
       "count   96708.000000  100000.000000  100000.000000  99866.00000   32134   \n",
       "unique           NaN            NaN            NaN          NaN   26992   \n",
       "top              NaN            NaN            NaN          NaN  C19828   \n",
       "freq             NaN            NaN            NaN          NaN       6   \n",
       "mean       38.355472       0.397690       0.454560     43.92933     NaN   \n",
       "std        18.313556       0.862566       0.950076     69.58882     NaN   \n",
       "min         0.080000       0.000000       0.000000      0.68000     NaN   \n",
       "25%        25.000000       0.000000       0.000000     10.04000     NaN   \n",
       "50%        39.000000       0.000000       0.000000     24.46000     NaN   \n",
       "75%        53.000000       1.000000       1.000000     33.50000     NaN   \n",
       "max        87.000000       8.000000       9.000000    744.66000     NaN   \n",
       "\n",
       "       Embarked  \n",
       "count     99750  \n",
       "unique        3  \n",
       "top           S  \n",
       "freq      72139  \n",
       "mean        NaN  \n",
       "std         NaN  \n",
       "min         NaN  \n",
       "25%         NaN  \n",
       "50%         NaN  \n",
       "75%         NaN  \n",
       "max         NaN  "
      ]
     },
     "execution_count": 369,
     "metadata": {},
     "output_type": "execute_result"
    }
   ],
   "source": [
    "data.describe(include='all')"
   ]
  },
  {
   "cell_type": "markdown",
   "metadata": {},
   "source": [
    "## Null values"
   ]
  },
  {
   "cell_type": "code",
   "execution_count": 370,
   "metadata": {},
   "outputs": [
    {
     "data": {
      "text/plain": [
       "PassengerId        0\n",
       "Survived           0\n",
       "Pclass             0\n",
       "Name               0\n",
       "Sex                0\n",
       "Age             3292\n",
       "SibSp              0\n",
       "Parch              0\n",
       "Fare             134\n",
       "Cabin          67866\n",
       "Embarked         250\n",
       "dtype: int64"
      ]
     },
     "execution_count": 370,
     "metadata": {},
     "output_type": "execute_result"
    }
   ],
   "source": [
    "data.isna().sum()"
   ]
  },
  {
   "cell_type": "markdown",
   "metadata": {},
   "source": [
    "## Unique values"
   ]
  },
  {
   "cell_type": "code",
   "execution_count": 371,
   "metadata": {},
   "outputs": [
    {
     "data": {
      "text/plain": [
       "PassengerId    100000\n",
       "Survived            2\n",
       "Pclass              3\n",
       "Name            92144\n",
       "Sex                 2\n",
       "Age               173\n",
       "SibSp               7\n",
       "Parch               8\n",
       "Fare            15935\n",
       "Cabin           26992\n",
       "Embarked            3\n",
       "dtype: int64"
      ]
     },
     "execution_count": 371,
     "metadata": {},
     "output_type": "execute_result"
    }
   ],
   "source": [
    "data.nunique()"
   ]
  },
  {
   "cell_type": "markdown",
   "metadata": {},
   "source": [
    "## Variable encoding"
   ]
  },
  {
   "cell_type": "code",
   "execution_count": 372,
   "metadata": {},
   "outputs": [
    {
     "name": "stderr",
     "output_type": "stream",
     "text": [
      "/Users/educauchy/opt/anaconda3/lib/python3.7/site-packages/sklearn/utils/validation.py:72: DataConversionWarning: A column-vector y was passed when a 1d array was expected. Please change the shape of y to (n_samples, ), for example using ravel().\n",
      "  return f(**kwargs)\n"
     ]
    }
   ],
   "source": [
    "# sex -> gender\n",
    "sex_encoder = LabelEncoder()\n",
    "sex_encoder.fit(data[['Sex']])\n",
    "data['Gender'] = sex_encoder.transform(data[['Sex']])\n",
    "\n",
    "# embarked -> origin\n",
    "emb_encoder = LabelEncoder()\n",
    "emb_encoder.fit((data[['Embarked']].append(test_data[['Embarked']])).astype(str))\n",
    "data['Origin'] = emb_encoder.transform(data[['Embarked']].astype(str))\n",
    "data['Origin'] = data['Origin'].replace('nan', np.nan)\n",
    "\n",
    "data['Family_Members'] = data['SibSp'] + data['Parch']\n",
    "data[['Surname', 'Firstname']] = data.Name.str.split(\", \", expand=True)\n",
    "test_data[['Surname', 'Firstname']] = test_data.Name.str.split(\", \", expand=True)\n",
    "\n",
    "# cabin -> cabin_letter_enc\n",
    "cabin_encoder = LabelEncoder()\n",
    "data['Cabin_Letter'] = data.Cabin.str.slice(0, 1)\n",
    "cabin_encoder.fit(data[['Cabin_Letter']].astype(str))\n",
    "data['Cabin_Letter_Enc'] = cabin_encoder.transform(data[['Cabin_Letter']].astype(str))\n",
    "data['Cabin_Letter_Enc'] = data['Cabin_Letter_Enc'].replace('nan', np.nan)\n",
    "\n",
    "# surname -> surname_enc\n",
    "surname_encoder = LabelEncoder()\n",
    "surname_encoder.fit((data[['Surname']].append(test_data[['Surname']], ignore_index=True)).astype(str))\n",
    "data['Surname_Enc'] = surname_encoder.transform(data[['Surname']].astype(str))\n",
    "data['Surname_Enc'] = data['Surname_Enc'].replace('nan', np.nan)\n",
    "\n",
    "\n",
    "data['Fare_Log'] = np.log1p(data['Fare'])\n",
    "data['Is_Alone'] = np.where(data['Family_Members'] == 0, 1, 0)\n",
    "data['Age_Bins'] = np.where(data['Age'] <= 18, 1, \n",
    "#                                  np.where(data['Age'] <= 40, 2,\n",
    "#                                  np.where(data['Age'] <= 45, 3,\n",
    "#                                  np.where(data['Age'] <= 60, 4,\n",
    "                                 np.where(data['Age'] <= 40, 2, 3))\n",
    "# )))"
   ]
  },
  {
   "cell_type": "code",
   "execution_count": 373,
   "metadata": {},
   "outputs": [
    {
     "data": {
      "text/plain": [
       "PassengerId             0\n",
       "Survived                0\n",
       "Pclass                  0\n",
       "Name                    0\n",
       "Sex                     0\n",
       "Age                  3292\n",
       "SibSp                   0\n",
       "Parch                   0\n",
       "Fare                  134\n",
       "Cabin               67866\n",
       "Embarked              250\n",
       "Gender                  0\n",
       "Origin                  0\n",
       "Family_Members          0\n",
       "Surname                 0\n",
       "Firstname               0\n",
       "Cabin_Letter        67866\n",
       "Cabin_Letter_Enc        0\n",
       "Surname_Enc             0\n",
       "Fare_Log              134\n",
       "Is_Alone                0\n",
       "Age_Bins                0\n",
       "dtype: int64"
      ]
     },
     "execution_count": 373,
     "metadata": {},
     "output_type": "execute_result"
    }
   ],
   "source": [
    "data.isnull().sum()"
   ]
  },
  {
   "cell_type": "markdown",
   "metadata": {},
   "source": [
    "# Imputation"
   ]
  },
  {
   "cell_type": "code",
   "execution_count": 374,
   "metadata": {},
   "outputs": [
    {
     "data": {
      "text/plain": [
       "(100000, 14)"
      ]
     },
     "execution_count": 374,
     "metadata": {},
     "output_type": "execute_result"
    }
   ],
   "source": [
    "cols = ['Pclass', 'Age', 'SibSp', 'Parch','Family_Members', 'Fare', \\\n",
    "        'Gender','Surname_Enc', 'Origin', 'Is_Alone', 'Fare_Log', 'Age_Bins', 'Cabin_Letter_Enc']\n",
    "\n",
    "imputer = KNNImputer(n_neighbors=5)\n",
    "imputer = IterativeImputer()\n",
    "imputer.fit(data[cols])\n",
    "data_imputed = imputer.transform(data[cols])\n",
    "\n",
    "data_train = pd.DataFrame(data = data_imputed, columns = cols)\n",
    "data_train['Survived'] = data['Survived']\n",
    "\n",
    "data_train.shape"
   ]
  },
  {
   "cell_type": "markdown",
   "metadata": {},
   "source": [
    "# Anomaly Detection"
   ]
  },
  {
   "cell_type": "code",
   "execution_count": 375,
   "metadata": {},
   "outputs": [
    {
     "data": {
      "text/plain": [
       "(53696, 14)"
      ]
     },
     "execution_count": 375,
     "metadata": {},
     "output_type": "execute_result"
    }
   ],
   "source": [
    "clf_anomaly = IsolationForest(n_estimators=200, n_jobs=-1).fit(data_train)\n",
    "pred_anomaly = clf_anomaly.predict(data_train)\n",
    "data_train = data_train[pred_anomaly == 1]\n",
    "data_train.shape"
   ]
  },
  {
   "cell_type": "markdown",
   "metadata": {},
   "source": [
    "# Model"
   ]
  },
  {
   "cell_type": "code",
   "execution_count": 376,
   "metadata": {},
   "outputs": [
    {
     "name": "stdout",
     "output_type": "stream",
     "text": [
      "0.8465549348230913\n",
      "             Feature Importance\n",
      "6             Gender      0.856\n",
      "8             Origin      0.066\n",
      "0             Pclass      0.049\n",
      "10          Fare_Log      0.013\n",
      "12  Cabin_Letter_Enc      0.009\n",
      "5               Fare      0.005\n",
      "1                Age      0.002\n",
      "11          Age_Bins      0.001\n",
      "2              SibSp        0.0\n",
      "3              Parch        0.0\n",
      "4     Family_Members        0.0\n",
      "7        Surname_Enc        0.0\n",
      "9           Is_Alone        0.0\n"
     ]
    }
   ],
   "source": [
    "X = data_train[data_train.columns[~data_train.columns.isin(['Survived'])]]\n",
    "y = data_train['Survived']\n",
    "\n",
    "X_train, X_test, y_train, y_test = train_test_split(X, y, train_size=0.8, random_state=0)\n",
    "\n",
    "# clf = RandomForestClassifier(n_estimators=3000, criterion='entropy', \\\n",
    "#                             random_state=1488, oob_score=True, n_jobs=-1).fit(X_train, y_train)\n",
    "\n",
    "# clf = AdaBoostClassifier(n_estimators=4000).fit(X_train, y_train)\n",
    "clf = GradientBoostingClassifier(n_estimators=20).fit(X_train, y_train)\n",
    "\n",
    "print(clf.score(X_test, y_test))\n",
    "print(pd.DataFrame(np.array(list(zip(cols, np.round(clf.feature_importances_, 3)))), columns=['Feature', 'Importance']).sort_values(by='Importance', ascending=False))\n"
   ]
  },
  {
   "cell_type": "markdown",
   "metadata": {},
   "source": [
    "### XGBOOST"
   ]
  },
  {
   "cell_type": "code",
   "execution_count": 249,
   "metadata": {},
   "outputs": [],
   "source": [
    "# dtrain = xgb.DMatrix(X, label=y)\n",
    "# dtest = xgb.DMatrix(test_data_test[data_train.columns[~data_train.columns.isin(['Survived', 'PassengerId'])]])\n",
    "# param = {'max_depth': 2, 'eta': 1, 'objective': 'binary:logistic'}\n",
    "# num_round = 3\n",
    "# bst = xgb.train(param, dtrain, num_round)\n",
    "# preds = bst.predict(dtest)"
   ]
  },
  {
   "cell_type": "markdown",
   "metadata": {},
   "source": [
    "## Model Accuracy"
   ]
  },
  {
   "cell_type": "code",
   "execution_count": 351,
   "metadata": {},
   "outputs": [
    {
     "data": {
      "text/plain": [
       "<sklearn.metrics._plot.roc_curve.RocCurveDisplay at 0x7f867e2e1e50>"
      ]
     },
     "execution_count": 351,
     "metadata": {},
     "output_type": "execute_result"
    },
    {
     "data": {
      "image/png": "[encoded data removed]",
      "text/plain": [
       "<Figure size 432x288 with 1 Axes>"
      ]
     },
     "metadata": {
      "needs_background": "light"
     },
     "output_type": "display_data"
    }
   ],
   "source": [
    "plot_roc_curve(clf, X_test, y_test)"
   ]
  },
  {
   "cell_type": "markdown",
   "metadata": {},
   "source": [
    "# Predict test"
   ]
  },
  {
   "cell_type": "code",
   "execution_count": 353,
   "metadata": {},
   "outputs": [],
   "source": [
    "test_data['Gender'] = sex_encoder.transform(test_data[['Sex']])\n",
    "\n",
    "test_data['Origin'] = emb_encoder.transform(test_data[['Embarked']].astype(str))\n",
    "test_data['Origin'] = test_data['Origin'].replace('nan', np.nan)\n",
    "\n",
    "test_data['Family_Members'] = test_data['SibSp'] + test_data['Parch']\n",
    "\n",
    "test_data['Surname_Enc'] = surname_encoder.transform(test_data[['Surname']].astype(str))\n",
    "test_data['Surname_Enc'] = test_data['Surname_Enc'].replace('nan', np.nan)\n",
    "\n",
    "# cabin -> cabin_letter_enc\n",
    "test_data['Cabin_Letter'] = test_data.Cabin.str.slice(0, 1)\n",
    "test_data['Cabin_Letter_Enc'] = cabin_encoder.transform(test_data['Cabin_Letter'].astype(str))\n",
    "\n",
    "test_data['Family_Members'] = test_data['SibSp'] + test_data['Parch']\n",
    "test_data['Fare_Log'] = np.log1p(test_data['Fare'])\n",
    "test_data['Is_Alone'] = np.where(test_data['Family_Members'] == 0, 1, 0)\n",
    "test_data['Age_Bins'] = np.where(test_data['Age'] <= 18, 1, \n",
    "#                                  np.where(test_data['Age'] <= 30, 2,\n",
    "#                                  np.where(test_data['Age'] <= 45, 3,\n",
    "#                                  np.where(test_data['Age'] <= 60, 4,\n",
    "                                 np.where(test_data['Age'] <= 40, 2, 3))\n",
    "#                                          )))"
   ]
  },
  {
   "cell_type": "code",
   "execution_count": 354,
   "metadata": {},
   "outputs": [
    {
     "data": {
      "text/html": [
       "<div>\n",
       "<style scoped>\n",
       "    .dataframe tbody tr th:only-of-type {\n",
       "        vertical-align: middle;\n",
       "    }\n",
       "\n",
       "    .dataframe tbody tr th {\n",
       "        vertical-align: top;\n",
       "    }\n",
       "\n",
       "    .dataframe thead th {\n",
       "        text-align: right;\n",
       "    }\n",
       "</style>\n",
       "<table border=\"1\" class=\"dataframe\">\n",
       "  <thead>\n",
       "    <tr style=\"text-align: right;\">\n",
       "      <th></th>\n",
       "      <th>Pclass</th>\n",
       "      <th>Age</th>\n",
       "      <th>SibSp</th>\n",
       "      <th>Parch</th>\n",
       "      <th>Family_Members</th>\n",
       "      <th>Fare</th>\n",
       "      <th>Gender</th>\n",
       "      <th>Surname_Enc</th>\n",
       "      <th>Origin</th>\n",
       "      <th>Is_Alone</th>\n",
       "      <th>Fare_Log</th>\n",
       "      <th>Age_Bins</th>\n",
       "      <th>Cabin_Letter_Enc</th>\n",
       "    </tr>\n",
       "  </thead>\n",
       "  <tbody>\n",
       "    <tr>\n",
       "      <th>0</th>\n",
       "      <td>3.0</td>\n",
       "      <td>19.0</td>\n",
       "      <td>0.0</td>\n",
       "      <td>0.0</td>\n",
       "      <td>0.0</td>\n",
       "      <td>63.01</td>\n",
       "      <td>1.0</td>\n",
       "      <td>10830.0</td>\n",
       "      <td>2.0</td>\n",
       "      <td>1.0</td>\n",
       "      <td>4.159039</td>\n",
       "      <td>2.0</td>\n",
       "      <td>8.0</td>\n",
       "    </tr>\n",
       "    <tr>\n",
       "      <th>1</th>\n",
       "      <td>3.0</td>\n",
       "      <td>53.0</td>\n",
       "      <td>0.0</td>\n",
       "      <td>0.0</td>\n",
       "      <td>0.0</td>\n",
       "      <td>5.81</td>\n",
       "      <td>0.0</td>\n",
       "      <td>17134.0</td>\n",
       "      <td>2.0</td>\n",
       "      <td>1.0</td>\n",
       "      <td>1.918392</td>\n",
       "      <td>3.0</td>\n",
       "      <td>8.0</td>\n",
       "    </tr>\n",
       "    <tr>\n",
       "      <th>2</th>\n",
       "      <td>1.0</td>\n",
       "      <td>19.0</td>\n",
       "      <td>0.0</td>\n",
       "      <td>0.0</td>\n",
       "      <td>0.0</td>\n",
       "      <td>38.91</td>\n",
       "      <td>0.0</td>\n",
       "      <td>9978.0</td>\n",
       "      <td>0.0</td>\n",
       "      <td>1.0</td>\n",
       "      <td>3.686627</td>\n",
       "      <td>2.0</td>\n",
       "      <td>1.0</td>\n",
       "    </tr>\n",
       "    <tr>\n",
       "      <th>3</th>\n",
       "      <td>2.0</td>\n",
       "      <td>25.0</td>\n",
       "      <td>0.0</td>\n",
       "      <td>0.0</td>\n",
       "      <td>0.0</td>\n",
       "      <td>12.93</td>\n",
       "      <td>1.0</td>\n",
       "      <td>13303.0</td>\n",
       "      <td>2.0</td>\n",
       "      <td>1.0</td>\n",
       "      <td>2.634045</td>\n",
       "      <td>2.0</td>\n",
       "      <td>8.0</td>\n",
       "    </tr>\n",
       "    <tr>\n",
       "      <th>4</th>\n",
       "      <td>1.0</td>\n",
       "      <td>17.0</td>\n",
       "      <td>0.0</td>\n",
       "      <td>2.0</td>\n",
       "      <td>2.0</td>\n",
       "      <td>26.89</td>\n",
       "      <td>0.0</td>\n",
       "      <td>4406.0</td>\n",
       "      <td>0.0</td>\n",
       "      <td>0.0</td>\n",
       "      <td>3.328268</td>\n",
       "      <td>1.0</td>\n",
       "      <td>1.0</td>\n",
       "    </tr>\n",
       "  </tbody>\n",
       "</table>\n",
       "</div>"
      ],
      "text/plain": [
       "   Pclass   Age  SibSp  Parch  Family_Members   Fare  Gender  Surname_Enc  \\\n",
       "0     3.0  19.0    0.0    0.0             0.0  63.01     1.0      10830.0   \n",
       "1     3.0  53.0    0.0    0.0             0.0   5.81     0.0      17134.0   \n",
       "2     1.0  19.0    0.0    0.0             0.0  38.91     0.0       9978.0   \n",
       "3     2.0  25.0    0.0    0.0             0.0  12.93     1.0      13303.0   \n",
       "4     1.0  17.0    0.0    2.0             2.0  26.89     0.0       4406.0   \n",
       "\n",
       "   Origin  Is_Alone  Fare_Log  Age_Bins  Cabin_Letter_Enc  \n",
       "0     2.0       1.0  4.159039       2.0               8.0  \n",
       "1     2.0       1.0  1.918392       3.0               8.0  \n",
       "2     0.0       1.0  3.686627       2.0               1.0  \n",
       "3     2.0       1.0  2.634045       2.0               8.0  \n",
       "4     0.0       0.0  3.328268       1.0               1.0  "
      ]
     },
     "execution_count": 354,
     "metadata": {},
     "output_type": "execute_result"
    }
   ],
   "source": [
    "test_data_imputed = imputer.transform(test_data[cols])\n",
    "test_data_test = pd.DataFrame(data = test_data_imputed, columns = cols)\n",
    "test_data_test.head()"
   ]
  },
  {
   "cell_type": "code",
   "execution_count": 355,
   "metadata": {},
   "outputs": [],
   "source": [
    "test_data_test['Survived'] = clf.predict(test_data_test[cols]).astype(int)\n",
    "test_data_test['PassengerId'] = test_data['PassengerId'].astype(int)\n",
    "test_data_test[['PassengerId', 'Survived']].to_csv('./submissions/GBM4_rm2_noCabin_kNNImpute_IsoForest_15_04.csv', index = False)"
   ]
  },
  {
   "cell_type": "code",
   "execution_count": null,
   "metadata": {},
   "outputs": [],
   "source": []
  }
 ],
 "metadata": {
  "kernelspec": {
   "display_name": "Python 3",
   "language": "python",
   "name": "python3"
  },
  "language_info": {
   "codemirror_mode": {
    "name": "ipython",
    "version": 3
   },
   "file_extension": ".py",
   "mimetype": "text/x-python",
   "name": "python",
   "nbconvert_exporter": "python",
   "pygments_lexer": "ipython3",
   "version": "3.7.8"
  }
 },
 "nbformat": 4,
 "nbformat_minor": 4
}
